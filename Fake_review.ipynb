{
 "cells": [
  {
   "cell_type": "code",
   "execution_count": 2,
   "id": "de9cfc6d-a8d3-48ec-9140-549508806589",
   "metadata": {
    "tags": []
   },
   "outputs": [
    {
     "name": "stdout",
     "output_type": "stream",
     "text": [
      "Collecting neattext\n",
      "  Downloading neattext-0.1.3-py3-none-any.whl (114 kB)\n",
      "     ---------------------------------------- 0.0/114.7 kB ? eta -:--:--\n",
      "     --- ------------------------------------ 10.2/114.7 kB ? eta -:--:--\n",
      "     ------------- ----------------------- 41.0/114.7 kB 393.8 kB/s eta 0:00:01\n",
      "     -----------------------------------  112.6/114.7 kB 726.2 kB/s eta 0:00:01\n",
      "     ------------------------------------ 114.7/114.7 kB 741.0 kB/s eta 0:00:00\n",
      "Installing collected packages: neattext\n",
      "Successfully installed neattext-0.1.3\n"
     ]
    }
   ],
   "source": [
    "!pip install neattext"
   ]
  },
  {
   "cell_type": "code",
   "execution_count": 3,
   "id": "a76ba38b-f47d-447e-bc7a-2500b5661f1d",
   "metadata": {
    "tags": []
   },
   "outputs": [],
   "source": [
    "from wordcloud import WordCloud\n",
    "import numpy as np \n",
    "import pandas as pd\n",
    "from sklearn.model_selection import train_test_split\n",
    "# !pip install neattext\n",
    "from keras.models import load_model\n",
    "import neattext.functions as nfx\n",
    "import matplotlib.pyplot as plt\n",
    "import plotly.express as plx\n",
    "from sklearn.metrics import classification_report\n",
    "import keras\n",
    "from keras.layers import Embedding,Dense,LSTM,Bidirectional,GlobalMaxPooling1D,Input,Dropout\n",
    "from keras.callbacks import EarlyStopping,ReduceLROnPlateau\n",
    "from keras.models import Sequential\n",
    "import tensorflow as tf\n",
    "from sklearn.preprocessing import LabelEncoder\n",
    "from keras.preprocessing.text import Tokenizer"
   ]
  },
  {
   "cell_type": "code",
   "execution_count": 4,
   "id": "8db532ad-9d03-4d3d-a35b-93824b4606c4",
   "metadata": {
    "tags": []
   },
   "outputs": [],
   "source": [
    "from keras.utils import pad_sequences\n",
    "from tqdm import tqdm\n",
    "import seaborn as sns\n",
    "import pickle\n",
    "import warnings\n",
    "warnings.filterwarnings('ignore')"
   ]
  },
  {
   "cell_type": "code",
   "execution_count": 5,
   "id": "14be3040-91b0-4d7b-9ad1-2d7dadfc47a7",
   "metadata": {
    "tags": []
   },
   "outputs": [],
   "source": [
    "ds = pd.read_csv(\"fake reviews dataset.csv\")"
   ]
  },
  {
   "cell_type": "code",
   "execution_count": 6,
   "id": "b56589b3-268a-4fc3-b428-adafcb81e36e",
   "metadata": {
    "tags": []
   },
   "outputs": [],
   "source": [
    "df = ds.drop(\"category\", axis=1)\n"
   ]
  },
  {
   "cell_type": "code",
   "execution_count": 35,
   "id": "3fca895c-7c3d-419c-b075-392cfd21ee7a",
   "metadata": {
    "tags": []
   },
   "outputs": [
    {
     "data": {
      "text/html": [
       "<div>\n",
       "<style scoped>\n",
       "    .dataframe tbody tr th:only-of-type {\n",
       "        vertical-align: middle;\n",
       "    }\n",
       "\n",
       "    .dataframe tbody tr th {\n",
       "        vertical-align: top;\n",
       "    }\n",
       "\n",
       "    .dataframe thead th {\n",
       "        text-align: right;\n",
       "    }\n",
       "</style>\n",
       "<table border=\"1\" class=\"dataframe\">\n",
       "  <thead>\n",
       "    <tr style=\"text-align: right;\">\n",
       "      <th></th>\n",
       "      <th>rating</th>\n",
       "      <th>label</th>\n",
       "      <th>text_</th>\n",
       "    </tr>\n",
       "  </thead>\n",
       "  <tbody>\n",
       "    <tr>\n",
       "      <th>0</th>\n",
       "      <td>5.0</td>\n",
       "      <td>CG</td>\n",
       "      <td>Love this!  Well made, sturdy, and very comfor...</td>\n",
       "    </tr>\n",
       "    <tr>\n",
       "      <th>1</th>\n",
       "      <td>5.0</td>\n",
       "      <td>CG</td>\n",
       "      <td>love it, a great upgrade from the original.  I...</td>\n",
       "    </tr>\n",
       "    <tr>\n",
       "      <th>2</th>\n",
       "      <td>5.0</td>\n",
       "      <td>CG</td>\n",
       "      <td>This pillow saved my back. I love the look and...</td>\n",
       "    </tr>\n",
       "    <tr>\n",
       "      <th>3</th>\n",
       "      <td>1.0</td>\n",
       "      <td>CG</td>\n",
       "      <td>Missing information on how to use it, but it i...</td>\n",
       "    </tr>\n",
       "    <tr>\n",
       "      <th>4</th>\n",
       "      <td>5.0</td>\n",
       "      <td>CG</td>\n",
       "      <td>Very nice set. Good quality. We have had the s...</td>\n",
       "    </tr>\n",
       "    <tr>\n",
       "      <th>5</th>\n",
       "      <td>3.0</td>\n",
       "      <td>CG</td>\n",
       "      <td>I WANTED DIFFERENT FLAVORS BUT THEY ARE NOT.</td>\n",
       "    </tr>\n",
       "    <tr>\n",
       "      <th>6</th>\n",
       "      <td>5.0</td>\n",
       "      <td>CG</td>\n",
       "      <td>They are the perfect touch for me and the only...</td>\n",
       "    </tr>\n",
       "    <tr>\n",
       "      <th>7</th>\n",
       "      <td>3.0</td>\n",
       "      <td>CG</td>\n",
       "      <td>These done fit well and look great.  I love th...</td>\n",
       "    </tr>\n",
       "    <tr>\n",
       "      <th>8</th>\n",
       "      <td>5.0</td>\n",
       "      <td>CG</td>\n",
       "      <td>Great big numbers &amp; easy to read, the only thi...</td>\n",
       "    </tr>\n",
       "    <tr>\n",
       "      <th>9</th>\n",
       "      <td>5.0</td>\n",
       "      <td>CG</td>\n",
       "      <td>My son loves this comforter and it is very wel...</td>\n",
       "    </tr>\n",
       "    <tr>\n",
       "      <th>10</th>\n",
       "      <td>5.0</td>\n",
       "      <td>CG</td>\n",
       "      <td>As advertised. 5th one I've had. The only prob...</td>\n",
       "    </tr>\n",
       "    <tr>\n",
       "      <th>11</th>\n",
       "      <td>5.0</td>\n",
       "      <td>CG</td>\n",
       "      <td>Very handy for one of my kids and the tools ar...</td>\n",
       "    </tr>\n",
       "    <tr>\n",
       "      <th>12</th>\n",
       "      <td>5.0</td>\n",
       "      <td>CG</td>\n",
       "      <td>Did someone say, \"Oriental for $60\"?  It is a ...</td>\n",
       "    </tr>\n",
       "    <tr>\n",
       "      <th>13</th>\n",
       "      <td>1.0</td>\n",
       "      <td>CG</td>\n",
       "      <td>These are so flimsy! They are not the quality ...</td>\n",
       "    </tr>\n",
       "    <tr>\n",
       "      <th>14</th>\n",
       "      <td>5.0</td>\n",
       "      <td>CG</td>\n",
       "      <td>Makes may tea with out stirring. The only prob...</td>\n",
       "    </tr>\n",
       "    <tr>\n",
       "      <th>15</th>\n",
       "      <td>5.0</td>\n",
       "      <td>CG</td>\n",
       "      <td>Absolutely adorable! And excellent price. We h...</td>\n",
       "    </tr>\n",
       "    <tr>\n",
       "      <th>16</th>\n",
       "      <td>5.0</td>\n",
       "      <td>CG</td>\n",
       "      <td>Love this!  Perfect size for an entire family!...</td>\n",
       "    </tr>\n",
       "    <tr>\n",
       "      <th>17</th>\n",
       "      <td>5.0</td>\n",
       "      <td>CG</td>\n",
       "      <td>These look beautiful and so nice. The only pro...</td>\n",
       "    </tr>\n",
       "    <tr>\n",
       "      <th>18</th>\n",
       "      <td>5.0</td>\n",
       "      <td>CG</td>\n",
       "      <td>Exactly what you would expect. I love the look...</td>\n",
       "    </tr>\n",
       "    <tr>\n",
       "      <th>19</th>\n",
       "      <td>5.0</td>\n",
       "      <td>CG</td>\n",
       "      <td>10 Stars, I would highly recommend this item. ...</td>\n",
       "    </tr>\n",
       "  </tbody>\n",
       "</table>\n",
       "</div>"
      ],
      "text/plain": [
       "    rating label                                              text_\n",
       "0      5.0    CG  Love this!  Well made, sturdy, and very comfor...\n",
       "1      5.0    CG  love it, a great upgrade from the original.  I...\n",
       "2      5.0    CG  This pillow saved my back. I love the look and...\n",
       "3      1.0    CG  Missing information on how to use it, but it i...\n",
       "4      5.0    CG  Very nice set. Good quality. We have had the s...\n",
       "5      3.0    CG       I WANTED DIFFERENT FLAVORS BUT THEY ARE NOT.\n",
       "6      5.0    CG  They are the perfect touch for me and the only...\n",
       "7      3.0    CG  These done fit well and look great.  I love th...\n",
       "8      5.0    CG  Great big numbers & easy to read, the only thi...\n",
       "9      5.0    CG  My son loves this comforter and it is very wel...\n",
       "10     5.0    CG  As advertised. 5th one I've had. The only prob...\n",
       "11     5.0    CG  Very handy for one of my kids and the tools ar...\n",
       "12     5.0    CG  Did someone say, \"Oriental for $60\"?  It is a ...\n",
       "13     1.0    CG  These are so flimsy! They are not the quality ...\n",
       "14     5.0    CG  Makes may tea with out stirring. The only prob...\n",
       "15     5.0    CG  Absolutely adorable! And excellent price. We h...\n",
       "16     5.0    CG  Love this!  Perfect size for an entire family!...\n",
       "17     5.0    CG  These look beautiful and so nice. The only pro...\n",
       "18     5.0    CG  Exactly what you would expect. I love the look...\n",
       "19     5.0    CG  10 Stars, I would highly recommend this item. ..."
      ]
     },
     "execution_count": 35,
     "metadata": {},
     "output_type": "execute_result"
    }
   ],
   "source": [
    "df.head(20)"
   ]
  },
  {
   "cell_type": "code",
   "execution_count": 7,
   "id": "fe839b75-45d1-40ee-b397-264562c56c5f",
   "metadata": {
    "tags": []
   },
   "outputs": [],
   "source": [
    "X = df.drop(\"label\", axis=1)\n",
    "y = df.iloc[:, -2]\n",
    "\n",
    "X_train, X_test, y_train, y_test = train_test_split(X, y, test_size=0.2, random_state=42)\n",
    "y_train = list(y_train)\n",
    "y_train = [1 if label == 'CG' else 0 for label in y_train]\n",
    "y_test = list(y_test)\n",
    "y_test = [1 if label == 'CG' else 0 for label in y_test]"
   ]
  },
  {
   "cell_type": "code",
   "execution_count": 8,
   "id": "1cf4fe20-9b30-4f31-9695-3ae44bae6c9d",
   "metadata": {
    "tags": []
   },
   "outputs": [],
   "source": [
    "def clean_text(text):\n",
    "    text_length=[]\n",
    "    cleaned_text=[]\n",
    "    for sent in tqdm(text):\n",
    "        sent=sent.lower()\n",
    "        sent=nfx.remove_special_characters(sent)\n",
    "        sent=nfx.remove_stopwords(sent)\n",
    "#         sent=nfx.remove_shortwords(sent)\n",
    "        text_length.append(len(sent.split()))\n",
    "        cleaned_text.append(sent)\n",
    "    return cleaned_text,text_length"
   ]
  },
  {
   "cell_type": "code",
   "execution_count": 11,
   "id": "64147d33-9bfc-4d11-9512-18834cd73428",
   "metadata": {
    "tags": []
   },
   "outputs": [
    {
     "data": {
      "text/html": [
       "<div>\n",
       "<style scoped>\n",
       "    .dataframe tbody tr th:only-of-type {\n",
       "        vertical-align: middle;\n",
       "    }\n",
       "\n",
       "    .dataframe tbody tr th {\n",
       "        vertical-align: top;\n",
       "    }\n",
       "\n",
       "    .dataframe thead th {\n",
       "        text-align: right;\n",
       "    }\n",
       "</style>\n",
       "<table border=\"1\" class=\"dataframe\">\n",
       "  <thead>\n",
       "    <tr style=\"text-align: right;\">\n",
       "      <th></th>\n",
       "      <th>rating</th>\n",
       "      <th>text_</th>\n",
       "    </tr>\n",
       "  </thead>\n",
       "  <tbody>\n",
       "    <tr>\n",
       "      <th>20355</th>\n",
       "      <td>5.0</td>\n",
       "      <td>Just what I needed.  Not a whole lot, just a l...</td>\n",
       "    </tr>\n",
       "    <tr>\n",
       "      <th>27881</th>\n",
       "      <td>5.0</td>\n",
       "      <td>I was given an ARC in exchange for an honest r...</td>\n",
       "    </tr>\n",
       "    <tr>\n",
       "      <th>21349</th>\n",
       "      <td>3.0</td>\n",
       "      <td>The ingredients list makes me happy. The only ...</td>\n",
       "    </tr>\n",
       "    <tr>\n",
       "      <th>29639</th>\n",
       "      <td>4.0</td>\n",
       "      <td>Really interesting look at Pinker's relationsh...</td>\n",
       "    </tr>\n",
       "    <tr>\n",
       "      <th>18760</th>\n",
       "      <td>5.0</td>\n",
       "      <td>We were upgrading the plumbing fixtures in one...</td>\n",
       "    </tr>\n",
       "    <tr>\n",
       "      <th>...</th>\n",
       "      <td>...</td>\n",
       "      <td>...</td>\n",
       "    </tr>\n",
       "    <tr>\n",
       "      <th>6265</th>\n",
       "      <td>5.0</td>\n",
       "      <td>I usually shoot multiple weapons, but I though...</td>\n",
       "    </tr>\n",
       "    <tr>\n",
       "      <th>11284</th>\n",
       "      <td>5.0</td>\n",
       "      <td>Supper bright and litium battery, whats not to...</td>\n",
       "    </tr>\n",
       "    <tr>\n",
       "      <th>38158</th>\n",
       "      <td>4.0</td>\n",
       "      <td>Four stars for being cute asf However minuse o...</td>\n",
       "    </tr>\n",
       "    <tr>\n",
       "      <th>860</th>\n",
       "      <td>5.0</td>\n",
       "      <td>Great for a playroom with multiple children. I...</td>\n",
       "    </tr>\n",
       "    <tr>\n",
       "      <th>15795</th>\n",
       "      <td>5.0</td>\n",
       "      <td>Looks great, made with quality material. The o...</td>\n",
       "    </tr>\n",
       "  </tbody>\n",
       "</table>\n",
       "<p>32345 rows × 2 columns</p>\n",
       "</div>"
      ],
      "text/plain": [
       "       rating                                              text_\n",
       "20355     5.0  Just what I needed.  Not a whole lot, just a l...\n",
       "27881     5.0  I was given an ARC in exchange for an honest r...\n",
       "21349     3.0  The ingredients list makes me happy. The only ...\n",
       "29639     4.0  Really interesting look at Pinker's relationsh...\n",
       "18760     5.0  We were upgrading the plumbing fixtures in one...\n",
       "...       ...                                                ...\n",
       "6265      5.0  I usually shoot multiple weapons, but I though...\n",
       "11284     5.0  Supper bright and litium battery, whats not to...\n",
       "38158     4.0  Four stars for being cute asf However minuse o...\n",
       "860       5.0  Great for a playroom with multiple children. I...\n",
       "15795     5.0  Looks great, made with quality material. The o...\n",
       "\n",
       "[32345 rows x 2 columns]"
      ]
     },
     "execution_count": 11,
     "metadata": {},
     "output_type": "execute_result"
    }
   ],
   "source": [
    "X_train"
   ]
  },
  {
   "cell_type": "code",
   "execution_count": 12,
   "id": "4ca93981-4d8d-4d82-8a3a-30a9a36717d4",
   "metadata": {
    "tags": []
   },
   "outputs": [
    {
     "name": "stderr",
     "output_type": "stream",
     "text": [
      "100%|██████████| 32345/32345 [00:00<00:00, 54285.38it/s]\n",
      "100%|██████████| 8087/8087 [00:00<00:00, 55427.83it/s]\n"
     ]
    }
   ],
   "source": [
    "cleaned_train_text,train_text_length=clean_text(X_train.text_)\n",
    "cleaned_test_text,test_text_length=clean_text(X_test.text_)"
   ]
  },
  {
   "cell_type": "code",
   "execution_count": 13,
   "id": "d0475f45-5d5f-46c7-94a8-4852b5c9c33e",
   "metadata": {
    "tags": []
   },
   "outputs": [],
   "source": [
    "tokenizer=Tokenizer()\n",
    "tokenizer.fit_on_texts(cleaned_train_text)"
   ]
  },
  {
   "cell_type": "code",
   "execution_count": 14,
   "id": "56186afc-d609-4f0b-bdcd-f108003defc6",
   "metadata": {
    "tags": []
   },
   "outputs": [],
   "source": [
    "word_freq=pd.DataFrame(tokenizer.word_counts.items(),columns=['word','count']).sort_values(by='count',ascending=False)"
   ]
  },
  {
   "cell_type": "code",
   "execution_count": 15,
   "id": "96a9faed-7822-42c6-8400-b3b31c66ef58",
   "metadata": {
    "tags": []
   },
   "outputs": [],
   "source": [
    "train_text_seq=tokenizer.texts_to_sequences(cleaned_train_text)\n",
    "train_text_pad=pad_sequences(train_text_seq,maxlen=50)\n",
    "\n",
    "\n",
    "test_text_seq=tokenizer.texts_to_sequences(cleaned_test_text)\n",
    "test_text_pad=pad_sequences(test_text_seq,maxlen=50)"
   ]
  },
  {
   "cell_type": "code",
   "execution_count": 16,
   "id": "f96cb4e1-4af5-421f-b843-ebf9d6c1a597",
   "metadata": {
    "tags": []
   },
   "outputs": [],
   "source": [
    "lbl_target=LabelEncoder()\n",
    "train_output=lbl_target.fit_transform(df['label'])\n",
    "# test_output=lbl_target.transform(df['class'])"
   ]
  },
  {
   "cell_type": "code",
   "execution_count": 21,
   "id": "85b5bfc4-557a-4fd1-979e-17191c0734ad",
   "metadata": {
    "tags": []
   },
   "outputs": [],
   "source": [
    "v=len(tokenizer.word_index)"
   ]
  },
  {
   "cell_type": "code",
   "execution_count": 23,
   "id": "43d4056d-ab6c-47f8-9d55-37eb566b8cad",
   "metadata": {
    "tags": []
   },
   "outputs": [],
   "source": [
    "# glove_embedding={}\n",
    "with open('glove.840B.300d.pkl', 'rb') as fp:\n",
    "    glove_embedding = pickle.load(fp)"
   ]
  },
  {
   "cell_type": "code",
   "execution_count": 24,
   "id": "70ff4713-0107-4fff-9e1c-c56a4f8fb15e",
   "metadata": {
    "tags": []
   },
   "outputs": [],
   "source": [
    "v=len(tokenizer.word_index)\n",
    "\n",
    "embedding_matrix=np.zeros((v+1,300), dtype=float)\n",
    "for word,idx in tokenizer.word_index.items():\n",
    "    embedding_vector=glove_embedding.get(word)\n",
    "    if embedding_vector is not None:\n",
    "        embedding_matrix[idx]=embedding_vector"
   ]
  },
  {
   "cell_type": "code",
   "execution_count": null,
   "id": "812fb30f-d2e0-4326-896e-ca3ee8ac1f7d",
   "metadata": {},
   "outputs": [],
   "source": []
  },
  {
   "cell_type": "code",
   "execution_count": 29,
   "id": "b11d9ba5-a3b1-420d-a274-84d0282347ac",
   "metadata": {
    "tags": []
   },
   "outputs": [],
   "source": [
    "list = [1,2,3,5]\n",
    "l = np.array(list)"
   ]
  },
  {
   "cell_type": "code",
   "execution_count": 30,
   "id": "fe18f9f9-2c7d-4984-94ad-148df35df293",
   "metadata": {
    "tags": []
   },
   "outputs": [
    {
     "data": {
      "text/plain": [
       "array([1, 2, 3, 5])"
      ]
     },
     "execution_count": 30,
     "metadata": {},
     "output_type": "execute_result"
    }
   ],
   "source": [
    "l"
   ]
  },
  {
   "cell_type": "code",
   "execution_count": 25,
   "id": "9c3b1a11-10cd-4864-b48d-0adbaf2510c8",
   "metadata": {
    "tags": []
   },
   "outputs": [],
   "source": [
    "early_stop=EarlyStopping(patience=5)\n",
    "reducelr=ReduceLROnPlateau(patience=3)"
   ]
  },
  {
   "cell_type": "code",
   "execution_count": 26,
   "id": "5237a8f5-995d-4f97-99af-0f35d9ece29f",
   "metadata": {
    "tags": []
   },
   "outputs": [],
   "source": [
    "suicide_model=Sequential()\n",
    "suicide_model.add(Input(shape=(50,)))\n",
    "suicide_model.add(Embedding(v+1,300,weights=[embedding_matrix],trainable=False))\n",
    "suicide_model.add(LSTM(20,return_sequences=True))\n",
    "suicide_model.add(GlobalMaxPooling1D())\n",
    "#     model.add(Dropout(0.3))\n",
    "suicide_model.add(Dense(256,activation='relu'))\n",
    "#     model.add(Dropout(0.2))\n",
    "suicide_model.add(Dense(1,activation='sigmoid'))\n",
    "suicide_model.compile(optimizer=keras.optimizers.SGD(0.05,momentum=0.09),loss='binary_crossentropy',metrics=['accuracy'])"
   ]
  },
  {
   "cell_type": "code",
   "execution_count": 31,
   "id": "3776ae37-4544-40bb-ace1-b73700a4df49",
   "metadata": {
    "tags": []
   },
   "outputs": [
    {
     "name": "stdout",
     "output_type": "stream",
     "text": [
      "Epoch 1/20\n",
      "WARNING:tensorflow:From C:\\Users\\HP\\anaconda3\\Lib\\site-packages\\keras\\src\\utils\\tf_utils.py:492: The name tf.ragged.RaggedTensorValue is deprecated. Please use tf.compat.v1.ragged.RaggedTensorValue instead.\n",
      "\n",
      "WARNING:tensorflow:From C:\\Users\\HP\\anaconda3\\Lib\\site-packages\\keras\\src\\engine\\base_layer_utils.py:384: The name tf.executing_eagerly_outside_functions is deprecated. Please use tf.compat.v1.executing_eagerly_outside_functions instead.\n",
      "\n",
      "506/506 [==============================] - 14s 24ms/step - loss: 0.6354 - accuracy: 0.6532 - val_loss: 0.5554 - val_accuracy: 0.7171 - lr: 0.0500\n",
      "Epoch 2/20\n",
      "506/506 [==============================] - 13s 26ms/step - loss: 0.4788 - accuracy: 0.7668 - val_loss: 0.4305 - val_accuracy: 0.7883 - lr: 0.0500\n",
      "Epoch 3/20\n",
      "506/506 [==============================] - 14s 28ms/step - loss: 0.4015 - accuracy: 0.8082 - val_loss: 0.4117 - val_accuracy: 0.7975 - lr: 0.0500\n",
      "Epoch 4/20\n",
      "506/506 [==============================] - 13s 25ms/step - loss: 0.3634 - accuracy: 0.8276 - val_loss: 0.3820 - val_accuracy: 0.8213 - lr: 0.0500\n",
      "Epoch 5/20\n",
      "506/506 [==============================] - 14s 27ms/step - loss: 0.3365 - accuracy: 0.8441 - val_loss: 0.3379 - val_accuracy: 0.8401 - lr: 0.0500\n",
      "Epoch 6/20\n",
      "506/506 [==============================] - 14s 27ms/step - loss: 0.3165 - accuracy: 0.8532 - val_loss: 0.3367 - val_accuracy: 0.8418 - lr: 0.0500\n",
      "Epoch 7/20\n",
      "506/506 [==============================] - 13s 26ms/step - loss: 0.2940 - accuracy: 0.8654 - val_loss: 0.5271 - val_accuracy: 0.7544 - lr: 0.0500\n",
      "Epoch 8/20\n",
      "506/506 [==============================] - 14s 27ms/step - loss: 0.2856 - accuracy: 0.8707 - val_loss: 0.3085 - val_accuracy: 0.8584 - lr: 0.0500\n",
      "Epoch 9/20\n",
      "506/506 [==============================] - 15s 29ms/step - loss: 0.2686 - accuracy: 0.8803 - val_loss: 0.3296 - val_accuracy: 0.8515 - lr: 0.0500\n",
      "Epoch 10/20\n",
      "506/506 [==============================] - 14s 28ms/step - loss: 0.2583 - accuracy: 0.8848 - val_loss: 0.2981 - val_accuracy: 0.8666 - lr: 0.0500\n",
      "Epoch 11/20\n",
      "506/506 [==============================] - 15s 30ms/step - loss: 0.2441 - accuracy: 0.8928 - val_loss: 0.2958 - val_accuracy: 0.8650 - lr: 0.0500\n",
      "Epoch 12/20\n",
      "506/506 [==============================] - 15s 30ms/step - loss: 0.2359 - accuracy: 0.8966 - val_loss: 0.2800 - val_accuracy: 0.8750 - lr: 0.0500\n",
      "Epoch 13/20\n",
      "506/506 [==============================] - 14s 28ms/step - loss: 0.2257 - accuracy: 0.9014 - val_loss: 0.3002 - val_accuracy: 0.8658 - lr: 0.0500\n",
      "Epoch 14/20\n",
      "506/506 [==============================] - 15s 29ms/step - loss: 0.2172 - accuracy: 0.9061 - val_loss: 0.3020 - val_accuracy: 0.8634 - lr: 0.0500\n",
      "Epoch 15/20\n",
      "506/506 [==============================] - 15s 29ms/step - loss: 0.2078 - accuracy: 0.9097 - val_loss: 0.2782 - val_accuracy: 0.8770 - lr: 0.0500\n",
      "Epoch 16/20\n",
      "506/506 [==============================] - 14s 29ms/step - loss: 0.1994 - accuracy: 0.9136 - val_loss: 0.2717 - val_accuracy: 0.8794 - lr: 0.0500\n",
      "Epoch 17/20\n",
      "506/506 [==============================] - 14s 27ms/step - loss: 0.1918 - accuracy: 0.9181 - val_loss: 0.3272 - val_accuracy: 0.8577 - lr: 0.0500\n",
      "Epoch 18/20\n",
      "506/506 [==============================] - 13s 26ms/step - loss: 0.1865 - accuracy: 0.9194 - val_loss: 0.2788 - val_accuracy: 0.8770 - lr: 0.0500\n",
      "Epoch 19/20\n",
      "506/506 [==============================] - 13s 25ms/step - loss: 0.1793 - accuracy: 0.9248 - val_loss: 0.2740 - val_accuracy: 0.8835 - lr: 0.0500\n",
      "Epoch 20/20\n",
      "506/506 [==============================] - 13s 26ms/step - loss: 0.1527 - accuracy: 0.9389 - val_loss: 0.2703 - val_accuracy: 0.8829 - lr: 0.0050\n"
     ]
    }
   ],
   "source": [
    "r=suicide_model.fit(train_text_pad,np.array(y_train),validation_data=(test_text_pad,np.array(y_test)),\n",
    "            epochs=20,batch_size=64,callbacks=[early_stop,reducelr])"
   ]
  },
  {
   "cell_type": "code",
   "execution_count": 32,
   "id": "d37d13d7-5295-49ae-923e-549d8e9d7b91",
   "metadata": {
    "tags": []
   },
   "outputs": [],
   "source": [
    "suicide_model.save('my_model.h5')"
   ]
  },
  {
   "cell_type": "code",
   "execution_count": 33,
   "id": "d18a93bb-6edc-41be-8718-ff30cd0e351d",
   "metadata": {
    "tags": []
   },
   "outputs": [],
   "source": [
    "suicide_model = load_model('my_model.h5')"
   ]
  },
  {
   "cell_type": "markdown",
   "id": "c189558b-98e8-4180-b238-6a107d12ed59",
   "metadata": {},
   "source": [
    "### LLM Server"
   ]
  },
  {
   "cell_type": "code",
   "execution_count": 36,
   "id": "1b97376e-447f-4210-a1d2-e2338b56bc2c",
   "metadata": {
    "tags": []
   },
   "outputs": [],
   "source": [
    "from openai import OpenAI\n",
    "\n",
    "client = OpenAI(base_url=\"http://localhost:1234/v1\", api_key=\"not-needed\")\n",
    "\n",
    "completion = client.chat.completions.create(\n",
    "  model=\"local-model\", # this field is currently unused\n",
    "  messages=[\n",
    "    {\"role\": \"system\", \"content\": \"Always answer in rhymes.\"},\n",
    "    {\"role\": \"user\", \"content\": \"Introduce yourself.\"}\n",
    "  ],\n",
    "  temperature=0.7,\n",
    ")"
   ]
  },
  {
   "cell_type": "code",
   "execution_count": null,
   "id": "3ef81592-c68e-455f-8af7-17064318a9d2",
   "metadata": {},
   "outputs": [],
   "source": [
    "from flask import Flask, request, jsonify\n",
    "import numpy as np\n",
    "import tensorflow as tf\n",
    "from transformers import DistilBertTokenizer, TFDistilBertModel\n",
    "\n",
    "app = Flask(__name__)\n",
    "\n",
    "# Load DistilBERT tokenizer and model\n",
    "tokenizer = DistilBertTokenizer.from_pretrained('distilbert-base-uncased')\n",
    "distilbert_model = TFDistilBertModel.from_pretrained('distilbert-base-uncased')\n",
    "\n",
    "# Load your trained model\n",
    "# You should replace 'your_model_path' with the actual path to your trained model\n",
    "model = tf.keras.models.load_model('your_model_path')\n",
    "\n",
    "def preprocess_input(reviews, ratings):\n",
    "    input_texts = [f\"{text} Rating: {rating}\" for text, rating in zip(reviews, ratings)]\n",
    "    encodings = tokenizer(input_texts, truncation=True, padding=True, max_length=128)\n",
    "    input_ids = np.array(encodings['input_ids'])\n",
    "    attention_mask = np.array(encodings['attention_mask'])\n",
    "    ratings_array = np.array(ratings).reshape(-1, 1)\n",
    "    return [input_ids, attention_mask, ratings_array]\n",
    "\n",
    "@app.route('/predict', methods=['POST'])\n",
    "def predict():\n",
    "    data = request.json\n",
    "    reviews = data['reviews']\n",
    "    ratings = data['ratings']\n",
    "\n",
    "    processed_input = preprocess_input(reviews, ratings)\n",
    "    predictions = model.predict(processed_input)\n",
    "    predictions_list = predictions.tolist()\n",
    "    return jsonify({'predictions': predictions_list})\n",
    "\n",
    "if __name__ == '__main__':\n",
    "    app.run(debug=True)\n"
   ]
  }
 ],
 "metadata": {
  "kernelspec": {
   "display_name": "Python 3 (ipykernel)",
   "language": "python",
   "name": "python3"
  },
  "language_info": {
   "codemirror_mode": {
    "name": "ipython",
    "version": 3
   },
   "file_extension": ".py",
   "mimetype": "text/x-python",
   "name": "python",
   "nbconvert_exporter": "python",
   "pygments_lexer": "ipython3",
   "version": "3.11.5"
  }
 },
 "nbformat": 4,
 "nbformat_minor": 5
}
