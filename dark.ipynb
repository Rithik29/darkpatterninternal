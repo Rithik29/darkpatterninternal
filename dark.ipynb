{
 "cells": [
  {
   "cell_type": "code",
   "execution_count": 280,
   "id": "42c15a30",
   "metadata": {},
   "outputs": [],
   "source": [
    "from selenium import webdriver\n",
    "from selenium.webdriver.common.by import By  # Import the 'By' class\n",
    "from selenium.webdriver.common.keys import Keys\n",
    "from selenium.webdriver.support.ui import WebDriverWait\n",
    "from selenium.webdriver.support import expected_conditions as EC\n"
   ]
  },
  {
   "cell_type": "code",
   "execution_count": 281,
   "id": "5899f180",
   "metadata": {},
   "outputs": [],
   "source": [
    "options = webdriver.ChromeOptions()\n",
    "options.binary_location = \"C:/Program Files/Google/Chrome/Application/chrome.exe\""
   ]
  },
  {
   "cell_type": "code",
   "execution_count": 282,
   "id": "ed012dec",
   "metadata": {},
   "outputs": [],
   "source": [
    "options.add_argument(\"webdriver.chrome.driver=C:/Program Files (x86)/chromedriver.exe\")"
   ]
  },
  {
   "cell_type": "code",
   "execution_count": 283,
   "id": "5a8103de",
   "metadata": {},
   "outputs": [],
   "source": [
    "driver = webdriver.Chrome(options=options)"
   ]
  },
  {
   "cell_type": "code",
   "execution_count": 256,
   "id": "7ca2abb8",
   "metadata": {},
   "outputs": [],
   "source": [
    "url = \"https://www.flipkart.com/search?q=bags&otracker=search&otracker1=search&marketplace=FLIPKART&as-show=on&as=off\"\n",
    "driver.get(url)"
   ]
  },
  {
   "cell_type": "code",
   "execution_count": 257,
   "id": "3fd75bd5",
   "metadata": {},
   "outputs": [],
   "source": [
    "driver.implicitly_wait(5)\n",
    "\n"
   ]
  },
  {
   "cell_type": "code",
   "execution_count": 258,
   "id": "57321415",
   "metadata": {},
   "outputs": [],
   "source": [
    "outer_elements = driver.find_elements(By.CLASS_NAME, '_1xHGtK._373qXS')\n"
   ]
  },
  {
   "cell_type": "code",
   "execution_count": 259,
   "id": "6563b98c",
   "metadata": {},
   "outputs": [],
   "source": [
    "product_info_list = []\n"
   ]
  },
  {
   "cell_type": "code",
   "execution_count": 260,
   "id": "99fa6015",
   "metadata": {},
   "outputs": [],
   "source": [
    "for outer_element in outer_elements:\n",
    "    # Find the target element with class '_2B099V'\n",
    "    target_element = outer_element.find_element(By.CLASS_NAME, '_2B099V')\n",
    "    \n",
    "    # Extract information from the target element\n",
    "    title = target_element.find_element(By.CLASS_NAME, 'IRpwTa').get_attribute('title')\n",
    "    href = target_element.find_element(By.CLASS_NAME, 'IRpwTa').get_attribute('href')\n",
    "    price = target_element.find_element(By.CLASS_NAME, '_30jeq3').text.strip()\n",
    "\n",
    "    # Save the information in a dictionary\n",
    "    product_info = {\n",
    "        'title': title,\n",
    "        'href': href,\n",
    "        'price': price\n",
    "    }\n",
    "\n",
    "    # Append the dictionary to the list\n",
    "    product_info_list.append(product_info)"
   ]
  },
  {
   "cell_type": "code",
   "execution_count": 261,
   "id": "9cc4c1b5",
   "metadata": {},
   "outputs": [
    {
     "data": {
      "text/plain": [
       "{'title': 'Medium 22 L Backpack Polyester 22L Flex 22L Backpack Blith',\n",
       " 'href': 'https://www.flipkart.com/skybags-polyester-22l-flex-backpack-blith-22-l/p/itm216551194bb24?pid=BKPGJNM6WQ6FB63A&lid=LSTBKPGJNM6WQ6FB63AA2W9EC&marketplace=FLIPKART&q=bags&store=reh%2F4d7&srno=s_1_1&otracker=search&otracker1=search&iid=en_qkiaZxoj6cJaFFszXxWznXfsL0skag6x2tyKqIiimtdXZ8x9KESCKrVlMcGP8tR2GavGM1Zwi32wyqaJsdVlIfUFjCTyOHoHZs-Z5_PS_w0%3D&ssid=wyarscn95s0000001706348742859&qH=404e218d27fee49e',\n",
       " 'price': '₹950'}"
      ]
     },
     "execution_count": 261,
     "metadata": {},
     "output_type": "execute_result"
    }
   ],
   "source": [
    "product_info_list[0]"
   ]
  },
  {
   "cell_type": "code",
   "execution_count": 262,
   "id": "01d60d23",
   "metadata": {},
   "outputs": [],
   "source": [
    "driver.quit()"
   ]
  },
  {
   "cell_type": "code",
   "execution_count": 263,
   "id": "e1db7215",
   "metadata": {},
   "outputs": [],
   "source": [
    "from selenium.webdriver.common.by import By\n",
    "from concurrent.futures import ThreadPoolExecutor\n",
    "from selenium.common.exceptions import StaleElementReferenceException, TimeoutException\n"
   ]
  },
  {
   "cell_type": "code",
   "execution_count": 264,
   "id": "e957aa33",
   "metadata": {},
   "outputs": [],
   "source": [
    "def get_price(product_info):\n",
    "    # Initialize WebDriver\n",
    "    driver = webdriver.Chrome()\n",
    "\n",
    "    try:\n",
    "        # Get title and URL from the product_info dictionary\n",
    "        title = product_info['title']\n",
    "        url = product_info['href']\n",
    "\n",
    "        # Navigate to the product URL\n",
    "        driver.get(url)\n",
    "\n",
    "        try:\n",
    "            # Wait for the price element to be present on the page\n",
    "            price_element = WebDriverWait(driver, 10, ignored_exceptions=(StaleElementReferenceException,)).until(\n",
    "                EC.presence_of_element_located((By.CLASS_NAME, '_30jeq3'))\n",
    "            )\n",
    "\n",
    "            # Get the price from the product page without removing the rupee sign\n",
    "            price = price_element.text.strip()\n",
    "\n",
    "            # Return a new dictionary with title and price\n",
    "            return {'title': title, 'price': price}\n",
    "\n",
    "        except TimeoutException:\n",
    "            # Handle TimeoutException by skipping this case\n",
    "            return None\n",
    "\n",
    "        except StaleElementReferenceException:\n",
    "            # Handle StaleElementReferenceException by retrying to locate the element\n",
    "            price_element = driver.find_element(By.CLASS_NAME, '_30jeq3')\n",
    "            price = price_element.text.strip()\n",
    "            return {'title': title, 'price': price}\n",
    "\n",
    "    finally:\n",
    "        # Close the WebDriver\n",
    "        driver.quit()"
   ]
  },
  {
   "cell_type": "code",
   "execution_count": 265,
   "id": "6582cf6a",
   "metadata": {},
   "outputs": [],
   "source": [
    "# driver = webdriver.Chrome()\n",
    "# driver.get(\"https://www.flipkart.com/fast-look-expandable-travel-rucksack-outdoor-sport-camping-hiking-trekking-bag-blue-60-l-backpack/p/itmb50e8f01fb3b5?pid=BKPGJ59K9YFMQ2QA&lid=LSTBKPGJ59K9YFMQ2QAAINSXE&marketplace=FLIPKART&q=bags&store=reh%2F4d7&srno=s_1_1&otracker=search&otracker1=search&fm=Search&iid=en_XWryLdncqCwS9OHC5Cq2NNEkXmUCVGJ7_P_qGmVCOJZYUvhTUY3aUFuOMv5B3rrRttpDpqV0x6piDzWrgyjXlQ%3D%3D&ppt=sp&ppn=sp&ssid=hj2vd32bi80000001706261965536&qH=404e218d27fee49e\")\n",
    "\n",
    "#         # Wait for the page to load (you can adjust the sleep time if needed)\n",
    "# driver.implicitly_wait(5)\n",
    "\n",
    "# # Get the price from the product page\n",
    "# price_element = driver.find_element(By.CLASS_NAME, '_30jeq3')\n",
    "# price = price_element.text.strip()"
   ]
  },
  {
   "cell_type": "code",
   "execution_count": 266,
   "id": "8a5b3caf",
   "metadata": {},
   "outputs": [],
   "source": [
    "with ThreadPoolExecutor(max_workers=10) as executor:\n",
    "     new_product_info_list = list(executor.map(get_price, product_info_list))"
   ]
  },
  {
   "cell_type": "code",
   "execution_count": 267,
   "id": "9fcc9891",
   "metadata": {},
   "outputs": [
    {
     "data": {
      "text/plain": [
       "40"
      ]
     },
     "execution_count": 267,
     "metadata": {},
     "output_type": "execute_result"
    }
   ],
   "source": [
    "len(new_product_info_list)"
   ]
  },
  {
   "cell_type": "code",
   "execution_count": 268,
   "id": "68737f63",
   "metadata": {},
   "outputs": [
    {
     "data": {
      "text/plain": [
       "{'title': '55 L Laptop Backpack Spacy unisex fits upto 16 Inches/college/school bag',\n",
       " 'price': '₹699'}"
      ]
     },
     "execution_count": 268,
     "metadata": {},
     "output_type": "execute_result"
    }
   ],
   "source": [
    "new_product_info_list[5]"
   ]
  },
  {
   "cell_type": "code",
   "execution_count": 269,
   "id": "dde74b6b",
   "metadata": {},
   "outputs": [
    {
     "data": {
      "text/plain": [
       "{'title': 'Medium 22 L Backpack Polyester 22L Flex 22L Backpack Blith',\n",
       " 'href': 'https://www.flipkart.com/skybags-polyester-22l-flex-backpack-blith-22-l/p/itm216551194bb24?pid=BKPGJNM6WQ6FB63A&lid=LSTBKPGJNM6WQ6FB63AA2W9EC&marketplace=FLIPKART&q=bags&store=reh%2F4d7&srno=s_1_1&otracker=search&otracker1=search&iid=en_qkiaZxoj6cJaFFszXxWznXfsL0skag6x2tyKqIiimtdXZ8x9KESCKrVlMcGP8tR2GavGM1Zwi32wyqaJsdVlIfUFjCTyOHoHZs-Z5_PS_w0%3D&ssid=wyarscn95s0000001706348742859&qH=404e218d27fee49e',\n",
       " 'price': '₹950'}"
      ]
     },
     "execution_count": 269,
     "metadata": {},
     "output_type": "execute_result"
    }
   ],
   "source": [
    "product_info_list[0]"
   ]
  },
  {
   "cell_type": "code",
   "execution_count": 270,
   "id": "c1dbb395",
   "metadata": {},
   "outputs": [],
   "source": [
    "# filtered_new_product_info_list = [item for item in new_product_info_list if item is not None]\n"
   ]
  },
  {
   "cell_type": "code",
   "execution_count": 271,
   "id": "0557c217",
   "metadata": {},
   "outputs": [],
   "source": [
    "# sorted_product_info_list = sorted(product_info_list, key=lambda x: x['title'] if x['title'] is not None else '')\n",
    "# sorted_new_product_info_list = sorted(filtered_new_product_info_list, key=lambda x: x['title'] if x['title'] is not None else '')"
   ]
  },
  {
   "cell_type": "code",
   "execution_count": 272,
   "id": "40be5cae",
   "metadata": {},
   "outputs": [],
   "source": [
    "# count=0;\n",
    "# for product_info, new_product_info in zip(sorted_product_info_list, sorted_new_product_info_list):\n",
    "#     title = product_info['title']\n",
    "#     price_original = product_info['price']\n",
    "\n",
    "#     new_title = new_product_info['title']\n",
    "#     new_price = new_product_info['price']\n",
    "\n",
    "#     # Check for None in title\n",
    "#     if title is None or new_title is None:\n",
    "#         print(\"Dark Practice: Title is None for a product.\")\n",
    "#         continue\n",
    "\n",
    "#     if title == new_title and price_original != new_price:\n",
    "#         count = count+1\n",
    "#         print(\"Dark Practice: Prices are different for product with title:\", title)"
   ]
  },
  {
   "cell_type": "code",
   "execution_count": 273,
   "id": "88fac618",
   "metadata": {},
   "outputs": [
    {
     "data": {
      "text/plain": [
       "39"
      ]
     },
     "execution_count": 273,
     "metadata": {},
     "output_type": "execute_result"
    }
   ],
   "source": [
    "count"
   ]
  },
  {
   "cell_type": "code",
   "execution_count": 274,
   "id": "3509fb41",
   "metadata": {},
   "outputs": [
    {
     "data": {
      "text/plain": [
       "40"
      ]
     },
     "execution_count": 274,
     "metadata": {},
     "output_type": "execute_result"
    }
   ],
   "source": [
    "len(sorted_new_product_info_list)"
   ]
  },
  {
   "cell_type": "code",
   "execution_count": 275,
   "id": "5c17fc8c",
   "metadata": {},
   "outputs": [],
   "source": [
    "# Remove entries with None titles from new_product_info_list\n",
    "new_product_info_list = [item for item in new_product_info_list if item and item['title'] is not None]\n"
   ]
  },
  {
   "cell_type": "code",
   "execution_count": 276,
   "id": "a6a98fd9",
   "metadata": {},
   "outputs": [
    {
     "name": "stdout",
     "output_type": "stream",
     "text": [
      "Dark Practice: Prices are different for product with title: Medium 23 L Laptop Backpack Medium Daypack\n",
      "₹494    ₹499\n",
      "Dark Practice: Prices are different for product with title: Medium 23 L Laptop Backpack Medium Daypack\n",
      "₹484    ₹499\n"
     ]
    }
   ],
   "source": [
    "for product_info in new_product_info_list:\n",
    "    title = product_info['title']\n",
    "    price_original = product_info['price']\n",
    "\n",
    "    # Find the corresponding entry in product_info_list\n",
    "    corresponding_product_info = next((item for item in product_info_list if item['title'] == title), None)\n",
    "\n",
    "    if corresponding_product_info:\n",
    "        new_price = corresponding_product_info['price']\n",
    "#         print(\"  \", corresponding_product_info['title'])\n",
    "\n",
    "        if price_original != new_price:\n",
    "            print(\"Dark Practice: Prices are different for product with title:\", title)\n",
    "            print(price_original, \"  \", new_price)\n",
    "#     else:\n",
    "#         ne_product_info_list.remove(product_info)"
   ]
  },
  {
   "cell_type": "code",
   "execution_count": 284,
   "id": "d9185d91",
   "metadata": {},
   "outputs": [],
   "source": [
    "# url2 = \"https://www.flipkart.com/campus-hurricane-running-shoes-men/product-reviews/itme55da032c2427?pid=SHOG6BNZCWQZ5YZZ&lid=LSTSHOG6BNZCWQZ5YZZFIKPS0&aid=978f1a08-3ba2-404b-9aea-86292cb3ac32.SHOG6BNZCWQZ5YZZ\""
   ]
  },
  {
   "cell_type": "code",
   "execution_count": 285,
   "id": "769e43e3",
   "metadata": {},
   "outputs": [],
   "source": [
    "# driver.get(url2)\n"
   ]
  },
  {
   "cell_type": "code",
   "execution_count": 286,
   "id": "51689272",
   "metadata": {},
   "outputs": [],
   "source": [
    "# # Extract all the text reviews\n",
    "# reviews = driver.find_elements(By.CLASS_NAME, '_3LWZlK')"
   ]
  },
  {
   "cell_type": "code",
   "execution_count": 287,
   "id": "3e4ef2c8",
   "metadata": {},
   "outputs": [],
   "source": [
    "# for review in reviews:\n",
    "#     print(review.text)"
   ]
  },
  {
   "cell_type": "code",
   "execution_count": 288,
   "id": "1a52c5d2",
   "metadata": {},
   "outputs": [
    {
     "data": {
      "text/plain": [
       "[]"
      ]
     },
     "execution_count": 288,
     "metadata": {},
     "output_type": "execute_result"
    }
   ],
   "source": [
    "# reviews"
   ]
  },
  {
   "cell_type": "code",
   "execution_count": null,
   "id": "0df38c6c",
   "metadata": {},
   "outputs": [],
   "source": []
  }
 ],
 "metadata": {
  "kernelspec": {
   "display_name": "Python 3 (ipykernel)",
   "language": "python",
   "name": "python3"
  },
  "language_info": {
   "codemirror_mode": {
    "name": "ipython",
    "version": 3
   },
   "file_extension": ".py",
   "mimetype": "text/x-python",
   "name": "python",
   "nbconvert_exporter": "python",
   "pygments_lexer": "ipython3",
   "version": "3.9.13"
  }
 },
 "nbformat": 4,
 "nbformat_minor": 5
}
